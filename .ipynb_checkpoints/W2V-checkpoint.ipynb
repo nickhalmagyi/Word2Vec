{
 "cells": [
  {
   "cell_type": "code",
   "execution_count": 1,
   "metadata": {
    "collapsed": false
   },
   "outputs": [],
   "source": [
    "## Runs my implementation of Word2Vec\n",
    "## The input is a text file plus some parameters \n",
    "## The pre-processing is performed by functions in TexttoDict\n",
    "\n",
    "import numpy as np\n",
    "import theano\n",
    "import theano.tensor as T\n",
    "import nltk\n",
    "import string\n",
    "from collections import defaultdict\n",
    "from TexttoDict import *\n",
    "\n",
    "rng = np.random"
   ]
  },
  {
   "cell_type": "code",
   "execution_count": 11,
   "metadata": {
    "collapsed": true
   },
   "outputs": [],
   "source": [
    "# N is the size of hidden layer\n",
    "# inarr, outarr are the output of run_container\n",
    "# inarr is the average of the bag of words\n",
    "# out arr is the middle word in the bag\n",
    "\n",
    "def W2Vtrain(inarr, outarr, N):\n",
    "# V is the length of cutoff dictionary\n",
    "    V=len(inarr[0])\n",
    "    \n",
    "    \n",
    "# (x,y) are shared variables for (input, output)\n",
    "    x = T.dvector(\"x\") # a vector\n",
    "    y = T.dvector(\"y\") # a vector\n",
    "\n",
    "\n",
    "# (W1,W2) are the weight matrices for input-hidden and hidden-output\n",
    "    W1 = theano.shared(rng.randn(V,N), name=\"W1\")   # a V x N matrix\n",
    "    W2 = theano.shared(rng.randn(N,V), name=\"W2\")   # a N x V matrix\n",
    "\n",
    "# This evaluates the hidden and output layers\n",
    "# This is a linear operation, no logistic function unlike neural nets\n",
    "    vhidden = T.dot(x, W1)   \n",
    "    vout = T.dot(vhidden,W2)   \n",
    "\n",
    "# Entropy loss function (this is a scalar)\n",
    "# y is the target word. x in the average of the bag\n",
    "    Entropy = T.dot(y,vout) - T.log((T.exp(vout)).sum())\n",
    "\n",
    "# Compute the gradient of the cost \n",
    "# w.r.t weight vector w and bias term b\n",
    "# These will be updated on each training run\n",
    "    gradW1, gradW2 = T.grad(Entropy, [W1, W2])\n",
    "\n",
    "# The train function updates the weights and computes the entropy\n",
    "    train = theano.function(\n",
    "          inputs=[x,y],\n",
    "          outputs=[Entropy],\n",
    "          updates=((W1, W1 - 0.1 * gradW1),(W2, W2 - 0.1 * gradW2)))\n",
    "\n",
    "# After the right number of training runs, the entropy should vanish\n",
    "    for i in range(len(inarr)):\n",
    "        ent=train(inarr[i], outarr[i])\n",
    "    \n",
    "    \n",
    "    return [W1.get_value(), ent]"
   ]
  },
  {
   "cell_type": "code",
   "execution_count": 16,
   "metadata": {
    "collapsed": false
   },
   "outputs": [
    {
     "data": {
      "text/plain": [
       "5135"
      ]
     },
     "execution_count": 16,
     "metadata": {},
     "output_type": "execute_result"
    }
   ],
   "source": [
    "linecount(\"textfile.txt\")"
   ]
  },
  {
   "cell_type": "code",
   "execution_count": 17,
   "metadata": {
    "collapsed": false
   },
   "outputs": [],
   "source": [
    "W2Vdata=w2vdatafromtext(\"textfile.txt\",cutoff=1,contsize=5,trainlines=5135,freqcutoff=0)"
   ]
  },
  {
   "cell_type": "code",
   "execution_count": 18,
   "metadata": {
    "collapsed": false
   },
   "outputs": [],
   "source": [
    "myW2Vdata=W2Vtrain(W2Vdata[1],W2Vdata[2],100)"
   ]
  },
  {
   "cell_type": "code",
   "execution_count": 19,
   "metadata": {
    "collapsed": false
   },
   "outputs": [
    {
     "data": {
      "text/plain": [
       "[array(-18.86175937098313)]"
      ]
     },
     "execution_count": 19,
     "metadata": {},
     "output_type": "execute_result"
    }
   ],
   "source": [
    "myW2Vdata[1]"
   ]
  },
  {
   "cell_type": "code",
   "execution_count": null,
   "metadata": {
    "collapsed": true
   },
   "outputs": [],
   "source": []
  }
 ],
 "metadata": {
  "anaconda-cloud": {},
  "kernelspec": {
   "display_name": "Python [Root]",
   "language": "python",
   "name": "Python [Root]"
  },
  "language_info": {
   "codemirror_mode": {
    "name": "ipython",
    "version": 2
   },
   "file_extension": ".py",
   "mimetype": "text/x-python",
   "name": "python",
   "nbconvert_exporter": "python",
   "pygments_lexer": "ipython2",
   "version": "2.7.12"
  }
 },
 "nbformat": 4,
 "nbformat_minor": 0
}
