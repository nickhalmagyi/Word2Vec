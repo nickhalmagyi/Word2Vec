{
 "cells": [
  {
   "cell_type": "code",
   "execution_count": 2,
   "metadata": {
    "collapsed": false
   },
   "outputs": [],
   "source": [
    "## Making a dictionary from a input file of text\n",
    "## lowercase unique entries\n",
    "\n",
    "import numpy as np\n",
    "import theano\n",
    "import theano.tensor as T\n",
    "import nltk\n",
    "import string\n",
    "from collections import defaultdict\n",
    "\n",
    "rng = np.random"
   ]
  },
  {
   "cell_type": "markdown",
   "metadata": {},
   "source": [
    "\n",
    "\n",
    "## Helper functions for text analysis"
   ]
  },
  {
   "cell_type": "code",
   "execution_count": 3,
   "metadata": {
    "collapsed": true
   },
   "outputs": [],
   "source": [
    "#------------------------------------------\n",
    "# A useful function in testing\n",
    "def linecount(tfile):\n",
    "    with open(tfile) as f:\n",
    "        i=0\n",
    "        for line in f:\n",
    "            i+=1\n",
    "    return i \n",
    "\n",
    "#------------------------------------------\n",
    "# The words in simplelist are too common to \n",
    "# have syntatic meaning\n",
    "simplelist = set('for a of the this that these those and to in'.split())\n",
    "\n",
    "#------------------------------------------\n",
    "# makes a cutoff dictionary from a textfile\n",
    "# we don't need a full wordlist, we will pioche words \n",
    "# from text as we process the data.\n",
    "def textfile_worddict(tfile, lines):\n",
    "    lc=0\n",
    "    wordcounts=defaultdict(int)\n",
    "    with open(tfile, 'r') as f:\n",
    "        for line in f:\n",
    "            lc+=1\n",
    "            line=(line.lower()).translate(None, string.punctuation)\n",
    "            for word in nltk.word_tokenize(line):\n",
    "                if word not in simplelist:\n",
    "                    wordcounts[word]+=1\n",
    "            if lc==lines:\n",
    "                break\n",
    "    return wordcounts\n",
    "\n",
    "#------------------------------------------\n",
    "def dict_cutoff(ddict,cutoff):\n",
    "    wccutoff=defaultdict(int)\n",
    "    i=0\n",
    "    for key in ddict:\n",
    "        if ddict[key] > cutoff:\n",
    "            wccutoff[key]=i\n",
    "            i+=1\n",
    "    return wccutoff\n",
    "\n",
    "#------------------------------------------\n",
    "# makes a unit vector in numpy\n",
    "def unit_vector(index,length):\n",
    "    unitvec=np.eye(1,length,index)\n",
    "    return unitvec\n",
    "\n",
    "\n",
    "#------------------------------------------\n",
    "# helper function to take a bag of words and returns a numpy array of size (0,dlen)\n",
    "# which is the sum of the representative vectors for each word\n",
    "def container_sum(contnr,dlen):\n",
    "    contsum=np.zeros(dlen)\n",
    "    for i in xrange(len(contnr)):\n",
    "        contsum=np.add(contsum,unit_vector(contnr[i],dlen))\n",
    "    contav=(1/float(len(contnr)))*contsum\n",
    "    return contav"
   ]
  },
  {
   "cell_type": "code",
   "execution_count": 11,
   "metadata": {
    "collapsed": false
   },
   "outputs": [],
   "source": [
    "# run_container takes a textfile and gives two numpy arrays.\n",
    "# Array[1]: Each row is the average of the vector rep \n",
    "#           of each word in a bag of size contsize. \n",
    "#           This is the input for the NNet\n",
    "# Array[2]: Each row is the vector rep of the middle word in \n",
    "#           each container. This is the target of the NNet\n",
    "# Bags are continuously constructed until linenumber \"lines\" is reached\n",
    "\n",
    "def run_container(tfile, dictcut, contsize, lines):\n",
    "    with open(tfile) as f:\n",
    "        \n",
    "        contnr=[] # will continuously contain the bag of words\n",
    "        linenum=0 # counter for lines in the training data set\n",
    "        dlen=len(dictcut) # length of the dictionary, and length of the vector for each word\n",
    "        inarr=np.empty((0,dlen))\n",
    "        outarr=np.empty((0,dlen))\n",
    "        \n",
    "        for line in f:\n",
    "            if linenum>lines:\n",
    "                break\n",
    "            linenum+=1\n",
    "            line=(line.lower()).translate(None, string.punctuation)\n",
    "            for word in nltk.word_tokenize(line):\n",
    "                if word in dictcut:\n",
    "                    contnr.append(dictcut[word]) # add next word into container\n",
    "                if len(contnr)==contsize: # when container is full\n",
    "                    inarr=np.vstack((inarr,container_sum(contnr,dlen))) # add av of bag to input\n",
    "                    # note contsize is odd so contsize/2 is integer and the middle of the container\n",
    "                    outarr=np.vstack((outarr,unit_vector(contnr[contsize/2],dlen))) # add target word to output\n",
    "                    contnr=contnr[1:] # delete first word in container \n",
    "                \n",
    "        return [inarr,outarr]\n",
    "\n",
    "def w2vdatafromtext(tfile,contsize,trainlines,freqcutoff):\n",
    "    textdict=textfile_worddict(tfile,lines=trainlines)\n",
    "    textdictcut=dict_cutoff(textdict,freqcutoff)\n",
    "    w2vdata=run_container(tfile,textdictcut,contsize,lines=trainlines)\n",
    "    return [textdictcut,w2vdata[0],w2vdata[1]]"
   ]
  },
  {
   "cell_type": "code",
   "execution_count": null,
   "metadata": {
    "collapsed": false
   },
   "outputs": [],
   "source": [
    "# W2Vdata=w2vdatafromtext(\"textfilesmall.txt\",contsize=5,trainlines=10,freqcutoff=1)\n",
    "# print W2Vdata"
   ]
  },
  {
   "cell_type": "code",
   "execution_count": 5,
   "metadata": {
    "collapsed": true
   },
   "outputs": [],
   "source": [
    "textdict=textfile_worddict(\"delorme.txt\",lines=100000)"
   ]
  },
  {
   "cell_type": "code",
   "execution_count": 6,
   "metadata": {
    "collapsed": true
   },
   "outputs": [],
   "source": [
    "textdictcut=dict_cutoff(textdict,1)"
   ]
  },
  {
   "cell_type": "code",
   "execution_count": 18,
   "metadata": {
    "collapsed": false
   },
   "outputs": [
    {
     "ename": "KeyboardInterrupt",
     "evalue": "",
     "output_type": "error",
     "traceback": [
      "\u001b[0;31m---------------------------------------------------------------------------\u001b[0m",
      "\u001b[0;31mKeyboardInterrupt\u001b[0m                         Traceback (most recent call last)",
      "\u001b[0;32m<ipython-input-18-08b7b40b49d8>\u001b[0m in \u001b[0;36m<module>\u001b[0;34m()\u001b[0m\n\u001b[0;32m----> 1\u001b[0;31m \u001b[0mw2vdata\u001b[0m\u001b[0;34m=\u001b[0m\u001b[0mrun_container\u001b[0m\u001b[0;34m(\u001b[0m\u001b[0;34m\"delorme.txt\"\u001b[0m\u001b[0;34m,\u001b[0m\u001b[0mtextdictcut\u001b[0m\u001b[0;34m,\u001b[0m\u001b[0mcontsize\u001b[0m\u001b[0;34m=\u001b[0m\u001b[0;36m7\u001b[0m\u001b[0;34m,\u001b[0m\u001b[0mlines\u001b[0m\u001b[0;34m=\u001b[0m\u001b[0;36m10000\u001b[0m\u001b[0;34m)\u001b[0m\u001b[0;34m\u001b[0m\u001b[0m\n\u001b[0m",
      "\u001b[0;32m<ipython-input-11-1c48b0c7d2da>\u001b[0m in \u001b[0;36mrun_container\u001b[0;34m(tfile, dictcut, contsize, lines)\u001b[0m\n\u001b[1;32m     27\u001b[0m                     \u001b[0minarr\u001b[0m\u001b[0;34m=\u001b[0m\u001b[0mnp\u001b[0m\u001b[0;34m.\u001b[0m\u001b[0mvstack\u001b[0m\u001b[0;34m(\u001b[0m\u001b[0;34m(\u001b[0m\u001b[0minarr\u001b[0m\u001b[0;34m,\u001b[0m\u001b[0mcontainer_sum\u001b[0m\u001b[0;34m(\u001b[0m\u001b[0mcontnr\u001b[0m\u001b[0;34m,\u001b[0m\u001b[0mdlen\u001b[0m\u001b[0;34m)\u001b[0m\u001b[0;34m)\u001b[0m\u001b[0;34m)\u001b[0m \u001b[0;31m# add av of bag to input\u001b[0m\u001b[0;34m\u001b[0m\u001b[0m\n\u001b[1;32m     28\u001b[0m                     \u001b[0;31m# note contsize is odd so contsize/2 is integer and the middle of the container\u001b[0m\u001b[0;34m\u001b[0m\u001b[0;34m\u001b[0m\u001b[0m\n\u001b[0;32m---> 29\u001b[0;31m                     \u001b[0moutarr\u001b[0m\u001b[0;34m=\u001b[0m\u001b[0mnp\u001b[0m\u001b[0;34m.\u001b[0m\u001b[0mvstack\u001b[0m\u001b[0;34m(\u001b[0m\u001b[0;34m(\u001b[0m\u001b[0moutarr\u001b[0m\u001b[0;34m,\u001b[0m\u001b[0munit_vector\u001b[0m\u001b[0;34m(\u001b[0m\u001b[0mcontnr\u001b[0m\u001b[0;34m[\u001b[0m\u001b[0mcontsize\u001b[0m\u001b[0;34m/\u001b[0m\u001b[0;36m2\u001b[0m\u001b[0;34m]\u001b[0m\u001b[0;34m,\u001b[0m\u001b[0mdlen\u001b[0m\u001b[0;34m)\u001b[0m\u001b[0;34m)\u001b[0m\u001b[0;34m)\u001b[0m \u001b[0;31m# add target word to output\u001b[0m\u001b[0;34m\u001b[0m\u001b[0m\n\u001b[0m\u001b[1;32m     30\u001b[0m                     \u001b[0mcontnr\u001b[0m\u001b[0;34m=\u001b[0m\u001b[0mcontnr\u001b[0m\u001b[0;34m[\u001b[0m\u001b[0;36m1\u001b[0m\u001b[0;34m:\u001b[0m\u001b[0;34m]\u001b[0m \u001b[0;31m# delete first word in container\u001b[0m\u001b[0;34m\u001b[0m\u001b[0m\n\u001b[1;32m     31\u001b[0m \u001b[0;34m\u001b[0m\u001b[0m\n",
      "\u001b[0;32m//anaconda/lib/python2.7/site-packages/numpy/core/shape_base.pyc\u001b[0m in \u001b[0;36mvstack\u001b[0;34m(tup)\u001b[0m\n\u001b[1;32m    228\u001b[0m \u001b[0;34m\u001b[0m\u001b[0m\n\u001b[1;32m    229\u001b[0m     \"\"\"\n\u001b[0;32m--> 230\u001b[0;31m     \u001b[0;32mreturn\u001b[0m \u001b[0m_nx\u001b[0m\u001b[0;34m.\u001b[0m\u001b[0mconcatenate\u001b[0m\u001b[0;34m(\u001b[0m\u001b[0;34m[\u001b[0m\u001b[0matleast_2d\u001b[0m\u001b[0;34m(\u001b[0m\u001b[0m_m\u001b[0m\u001b[0;34m)\u001b[0m \u001b[0;32mfor\u001b[0m \u001b[0m_m\u001b[0m \u001b[0;32min\u001b[0m \u001b[0mtup\u001b[0m\u001b[0;34m]\u001b[0m\u001b[0;34m,\u001b[0m \u001b[0;36m0\u001b[0m\u001b[0;34m)\u001b[0m\u001b[0;34m\u001b[0m\u001b[0m\n\u001b[0m\u001b[1;32m    231\u001b[0m \u001b[0;34m\u001b[0m\u001b[0m\n\u001b[1;32m    232\u001b[0m \u001b[0;32mdef\u001b[0m \u001b[0mhstack\u001b[0m\u001b[0;34m(\u001b[0m\u001b[0mtup\u001b[0m\u001b[0;34m)\u001b[0m\u001b[0;34m:\u001b[0m\u001b[0;34m\u001b[0m\u001b[0m\n",
      "\u001b[0;31mKeyboardInterrupt\u001b[0m: "
     ]
    }
   ],
   "source": [
    "w2vdata=run_container(\"delorme.txt\",textdictcut,contsize=7,lines=10000)"
   ]
  },
  {
   "cell_type": "code",
   "execution_count": 17,
   "metadata": {
    "collapsed": false
   },
   "outputs": [
    {
     "name": "stdout",
     "output_type": "stream",
     "text": [
      "[ 0.  0.  0. ...,  0.  0.  0.]\n"
     ]
    }
   ],
   "source": [
    "print w2vdata[1][1]"
   ]
  },
  {
   "cell_type": "code",
   "execution_count": null,
   "metadata": {
    "collapsed": true
   },
   "outputs": [],
   "source": [
    "# trivial comment"
   ]
  }
 ],
 "metadata": {
  "anaconda-cloud": {},
  "kernelspec": {
   "display_name": "Python [Root]",
   "language": "python",
   "name": "Python [Root]"
  },
  "language_info": {
   "codemirror_mode": {
    "name": "ipython",
    "version": 2
   },
   "file_extension": ".py",
   "mimetype": "text/x-python",
   "name": "python",
   "nbconvert_exporter": "python",
   "pygments_lexer": "ipython2",
   "version": "2.7.12"
  }
 },
 "nbformat": 4,
 "nbformat_minor": 0
}
