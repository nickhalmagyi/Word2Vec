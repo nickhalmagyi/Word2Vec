{
 "cells": [
  {
   "cell_type": "code",
   "execution_count": 1,
   "metadata": {
    "collapsed": false
   },
   "outputs": [],
   "source": [
    "## Making a dictionary from a input file of text\n",
    "## lowercase unique entries\n",
    "\n",
    "import numpy as np\n",
    "import theano\n",
    "import theano.tensor as T\n",
    "import nltk\n",
    "import string\n",
    "from collections import defaultdict\n",
    "\n",
    "rng = np.random"
   ]
  },
  {
   "cell_type": "markdown",
   "metadata": {},
   "source": [
    "\n",
    "\n",
    "## Helper functions for text analysis"
   ]
  },
  {
   "cell_type": "code",
   "execution_count": 1,
   "metadata": {
    "collapsed": true
   },
   "outputs": [],
   "source": [
    "#------------------------------------------\n",
    "def linecount(tfile):\n",
    "    with open(tfile) as f:\n",
    "        i=0\n",
    "        for line in f:\n",
    "            i+=1\n",
    "    return i \n",
    "\n",
    "#------------------------------------------\n",
    "# The words in simplelist are too common to \n",
    "# have syntatic meaning\n",
    "simplelist = set('for a of the this that these those and to in'.split())\n",
    "\n",
    "#------------------------------------------\n",
    "# makes a cutoff dictionary from a textfile\n",
    "# we don't need a full wordlist, we will pioche words \n",
    "# from text as we process the data.\n",
    "def textfile_worddict(tfile, lines):\n",
    "    lc=0\n",
    "    wordcounts=defaultdict(int)\n",
    "    with open(tfile, 'r') as f:\n",
    "        for line in f:\n",
    "            lc+=1\n",
    "            line=(line.lower()).translate(None, string.punctuation)\n",
    "            for word in nltk.word_tokenize(line):\n",
    "                if word not in simplelist:\n",
    "                    wordcounts[word]+=1\n",
    "            if lc==lines:\n",
    "                break\n",
    "    return wordcounts\n",
    "\n",
    "#------------------------------------------\n",
    "def dict_cutoff(ddict,cutoff):\n",
    "    wccutoff=defaultdict(int)\n",
    "    i=0\n",
    "    for key in ddict:\n",
    "        if ddict[key] > cutoff:\n",
    "            wccutoff[key]=i\n",
    "            i+=1\n",
    "    return wccutoff\n",
    "\n",
    "#------------------------------------------\n",
    "# run_container takes a textfile and a dictionary\n",
    "# and outputs two numpy arrays:\n",
    "# Array[1]: Each row is the average of the vector rep \n",
    "#           of each word in a bag of size contsize. \n",
    "#           This is the input for the NNet\n",
    "# Array[2]: Each row is the vector rep of the middle word in \n",
    "#           each container. This is the target of the NNet\n",
    "# Bags are continuously constructed until linenumber \"lines\" is reached\n",
    "\n",
    "def run_container(tfile, dictcut, contsize, lines):\n",
    "    with open(tfile) as f:\n",
    "        \n",
    "        contnr=[] # will continuously contain the bag of words\n",
    "        linenum=0 # counter for lines in the training data set\n",
    "        inarr=[]\n",
    "        outarr=[]\n",
    "        \n",
    "        for line in f:\n",
    "            if linenum>lines:\n",
    "                break\n",
    "            linenum+=1\n",
    "            line=(line.lower()).translate(None, string.punctuation)\n",
    "            for word in nltk.word_tokenize(line):\n",
    "                if word in dictcut:\n",
    "                    contnr.append(dictcut[word]) # add next word into container\n",
    "                if len(contnr)==contsize: # when container is full\n",
    "                    inarr.append(contnr) # add bag of words to input\n",
    "                    # note contsize is odd so contsize/2 is integer and the middle of the container\n",
    "                    outarr.append(contnr[contsize/2]) # add target word to output\n",
    "                    contnr=contnr[1:] # delete first word in container \n",
    "                \n",
    "        return [inarr,outarr]\n",
    "\n",
    "#------------------------------------------\n",
    "# This function takes a textfile and some parameters\n",
    "# and outputs two numpy arrays and a word dictionary for W2V, \n",
    "# see run_container fordetails of output\n",
    "\n",
    "def w2vdatafromtext(tfile,contsize,trainlines,freqcutoff):\n",
    "    textdict=textfile_worddict(tfile,lines=trainlines)\n",
    "    textdictcut=dict_cutoff(textdict,freqcutoff)\n",
    "    w2vdata=run_container(tfile,textdictcut,contsize,lines=trainlines)\n",
    "    return [textdictcut,w2vdata[0],w2vdata[1]]"
   ]
  },
  {
   "cell_type": "code",
   "execution_count": null,
   "metadata": {
    "collapsed": true
   },
   "outputs": [],
   "source": []
  }
 ],
 "metadata": {
  "anaconda-cloud": {},
  "kernelspec": {
   "display_name": "Python [Root]",
   "language": "python",
   "name": "Python [Root]"
  },
  "language_info": {
   "codemirror_mode": {
    "name": "ipython",
    "version": 2
   },
   "file_extension": ".py",
   "mimetype": "text/x-python",
   "name": "python",
   "nbconvert_exporter": "python",
   "pygments_lexer": "ipython2",
   "version": "2.7.12"
  }
 },
 "nbformat": 4,
 "nbformat_minor": 0
}
